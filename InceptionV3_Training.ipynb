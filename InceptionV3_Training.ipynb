{
 "cells": [
  {
   "cell_type": "code",
   "execution_count": 1,
   "id": "3e667f74",
   "metadata": {},
   "outputs": [],
   "source": [
    "import os\n",
    "import numpy as np\n",
    "import tensorflow as tf\n",
    "from tensorflow.keras.preprocessing.image import ImageDataGenerator\n",
    "from tensorflow.keras.applications.inception_v3 import InceptionV3, preprocess_input\n",
    "from tensorflow.keras.callbacks import EarlyStopping\n",
    "from sklearn.metrics import accuracy_score, classification_report, confusion_matrix"
   ]
  },
  {
   "cell_type": "code",
   "execution_count": 2,
   "id": "a47bad80",
   "metadata": {},
   "outputs": [],
   "source": [
    "# Set the path to your dataset folders for training and testing\n",
    "train_data_path = \"E:\\Thesis\\dataset\\Final Dataset\\Training\"\n",
    "test_data_path = \"E:\\Thesis\\dataset\\Final Dataset\\Testing\""
   ]
  },
  {
   "cell_type": "code",
   "execution_count": 3,
   "id": "99ae708a",
   "metadata": {},
   "outputs": [],
   "source": [
    "# Define image dimensions and batch size\n",
    "image_width, image_height = 512, 512\n",
    "batch_size = 16"
   ]
  },
  {
   "cell_type": "code",
   "execution_count": 4,
   "id": "3ff3c972",
   "metadata": {},
   "outputs": [],
   "source": [
    "# Create an ImageDataGenerator for data augmentation and preprocessing\n",
    "data_generator = ImageDataGenerator(preprocessing_function=preprocess_input)"
   ]
  },
  {
   "cell_type": "code",
   "execution_count": 5,
   "id": "2b4613a1",
   "metadata": {},
   "outputs": [
    {
     "name": "stdout",
     "output_type": "stream",
     "text": [
      "Found 6000 images belonging to 2 classes.\n"
     ]
    }
   ],
   "source": [
    "# Load and preprocess the training data\n",
    "train_generator = data_generator.flow_from_directory(\n",
    "    train_data_path,\n",
    "    target_size=(image_width, image_height),\n",
    "    batch_size=batch_size,\n",
    "    class_mode='categorical',\n",
    "    shuffle=True\n",
    ")"
   ]
  },
  {
   "cell_type": "code",
   "execution_count": 6,
   "id": "a21e6c01",
   "metadata": {},
   "outputs": [
    {
     "name": "stdout",
     "output_type": "stream",
     "text": [
      "Found 1200 images belonging to 2 classes.\n"
     ]
    }
   ],
   "source": [
    "# Load and preprocess the testing data\n",
    "test_generator = data_generator.flow_from_directory(\n",
    "    test_data_path,\n",
    "    target_size=(image_width, image_height),\n",
    "    batch_size=batch_size,\n",
    "    class_mode='categorical',\n",
    "    shuffle=False\n",
    ")"
   ]
  },
  {
   "cell_type": "code",
   "execution_count": 7,
   "id": "86cf0e34",
   "metadata": {},
   "outputs": [],
   "source": [
    "# Load the InceptionV3 model\n",
    "base_model = InceptionV3(weights='imagenet', include_top=False, input_shape=(image_width, image_height, 3))\n",
    "\n",
    "# Add custom classification layers on top of the base model\n",
    "model = tf.keras.models.Sequential()\n",
    "model.add(base_model)\n",
    "model.add(tf.keras.layers.GlobalAveragePooling2D())\n",
    "model.add(tf.keras.layers.Dense(2, activation='softmax'))\n",
    "\n",
    "# Compile the model\n",
    "model.compile(optimizer='adam', loss='categorical_crossentropy', metrics=['accuracy'])"
   ]
  },
  {
   "cell_type": "code",
   "execution_count": 8,
   "id": "60c99847",
   "metadata": {},
   "outputs": [],
   "source": [
    "# Calculate the training and testing steps per epoch\n",
    "train_steps_per_epoch = train_generator.samples // batch_size\n",
    "test_steps_per_epoch = test_generator.samples // batch_size"
   ]
  },
  {
   "cell_type": "code",
   "execution_count": 9,
   "id": "09e517b0",
   "metadata": {},
   "outputs": [],
   "source": [
    "# Define early stopping callback\n",
    "early_stopping = EarlyStopping(monitor='val_loss', patience=3, restore_best_weights=True)"
   ]
  },
  {
   "cell_type": "code",
   "execution_count": 10,
   "id": "51890ff6",
   "metadata": {},
   "outputs": [
    {
     "name": "stdout",
     "output_type": "stream",
     "text": [
      "Epoch 1/100\n",
      "375/375 [==============================] - 177s 438ms/step - loss: 0.3497 - accuracy: 0.8525 - val_loss: 0.6695 - val_accuracy: 0.7967\n",
      "Epoch 2/100\n",
      "375/375 [==============================] - 57s 150ms/step - loss: 0.2289 - accuracy: 0.9088 - val_loss: 0.3297 - val_accuracy: 0.8717\n",
      "Epoch 3/100\n",
      "375/375 [==============================] - 57s 151ms/step - loss: 0.1842 - accuracy: 0.9245 - val_loss: 0.2486 - val_accuracy: 0.9000\n",
      "Epoch 4/100\n",
      "375/375 [==============================] - 57s 150ms/step - loss: 0.1646 - accuracy: 0.9317 - val_loss: 0.4952 - val_accuracy: 0.8433\n",
      "Epoch 5/100\n",
      "375/375 [==============================] - 56s 150ms/step - loss: 0.1529 - accuracy: 0.9428 - val_loss: 0.2670 - val_accuracy: 0.9017\n",
      "Epoch 6/100\n",
      "375/375 [==============================] - 57s 151ms/step - loss: 0.1380 - accuracy: 0.9467 - val_loss: 0.2581 - val_accuracy: 0.8875\n"
     ]
    },
    {
     "data": {
      "text/plain": [
       "<keras.callbacks.History at 0x190db831e50>"
      ]
     },
     "execution_count": 10,
     "metadata": {},
     "output_type": "execute_result"
    }
   ],
   "source": [
    "# Train the model with early stopping\n",
    "model.fit(\n",
    "    train_generator,\n",
    "    steps_per_epoch=train_steps_per_epoch,\n",
    "    epochs=100,\n",
    "    validation_split=0.2,\n",
    "    validation_steps=test_steps_per_epoch,\n",
    "    callbacks=[early_stopping]\n",
    ")\n"
   ]
  },
  {
   "cell_type": "code",
   "execution_count": 11,
   "id": "f1f1475d",
   "metadata": {},
   "outputs": [
    {
     "name": "stdout",
     "output_type": "stream",
     "text": [
      "75/75 [==============================] - 9s 109ms/step\n"
     ]
    }
   ],
   "source": [
    "# Evaluate the model on the test data\n",
    "test_generator.reset()\n",
    "predictions = model.predict(test_generator, steps=test_steps_per_epoch)\n",
    "predicted_labels = np.argmax(predictions, axis=1)\n",
    "true_labels = test_generator.classes"
   ]
  },
  {
   "cell_type": "code",
   "execution_count": 12,
   "id": "d739a479",
   "metadata": {},
   "outputs": [
    {
     "name": "stdout",
     "output_type": "stream",
     "text": [
      "75/75 [==============================] - 8s 110ms/step - loss: 0.2486 - accuracy: 0.9000\n",
      "Test Loss: 0.2485622614622116\n",
      "Test Accuracy: 0.8999999761581421\n"
     ]
    }
   ],
   "source": [
    "# Evaluate the model\n",
    "loss, accuracy = model.evaluate(test_generator, steps=test_steps_per_epoch)\n",
    "print(\"Test Loss:\", loss)\n",
    "print(\"Test Accuracy:\", accuracy)"
   ]
  },
  {
   "cell_type": "code",
   "execution_count": 13,
   "id": "bcf540a8",
   "metadata": {},
   "outputs": [
    {
     "name": "stdout",
     "output_type": "stream",
     "text": [
      "Prediction Accuracy: 0.9\n"
     ]
    }
   ],
   "source": [
    "# Calculate prediction accuracy\n",
    "prediction_accuracy = accuracy_score(true_labels, predicted_labels)\n",
    "print('Prediction Accuracy:', prediction_accuracy)"
   ]
  },
  {
   "cell_type": "code",
   "execution_count": 14,
   "id": "17d7e251",
   "metadata": {},
   "outputs": [],
   "source": [
    "# Create a dictionary to map label indices to label names\n",
    "label_map = train_generator.class_indices\n"
   ]
  },
  {
   "cell_type": "code",
   "execution_count": 15,
   "id": "63cd47d1",
   "metadata": {},
   "outputs": [
    {
     "name": "stdout",
     "output_type": "stream",
     "text": [
      "Classification Report:\n",
      "              precision    recall  f1-score   support\n",
      "\n",
      "      Female       0.89      0.91      0.90       600\n",
      "        male       0.91      0.89      0.90       600\n",
      "\n",
      "    accuracy                           0.90      1200\n",
      "   macro avg       0.90      0.90      0.90      1200\n",
      "weighted avg       0.90      0.90      0.90      1200\n",
      "\n"
     ]
    }
   ],
   "source": [
    "print('Classification Report:')\n",
    "print(classification_report(true_labels, predicted_labels, target_names=label_map))\n"
   ]
  },
  {
   "cell_type": "code",
   "execution_count": 16,
   "id": "76d853bd",
   "metadata": {},
   "outputs": [
    {
     "name": "stdout",
     "output_type": "stream",
     "text": [
      "Confusion Matrix:\n",
      "[[547  53]\n",
      " [ 67 533]]\n"
     ]
    }
   ],
   "source": [
    "print('Confusion Matrix:')\n",
    "confusion_mat=confusion_matrix(true_labels, predicted_labels)\n",
    "print(confusion_mat)"
   ]
  },
  {
   "cell_type": "code",
   "execution_count": 17,
   "id": "cbab0d56",
   "metadata": {},
   "outputs": [
    {
     "data": {
      "image/png": "[encoded data removed]",
      "text/plain": [
       "<Figure size 800x600 with 2 Axes>"
      ]
     },
     "metadata": {},
     "output_type": "display_data"
    }
   ],
   "source": [
    "from sklearn.metrics import accuracy_score, confusion_matrix\n",
    "import seaborn as sns\n",
    "import matplotlib.pyplot as plt\n",
    "# Plot confusion matrix as a heatmap\n",
    "labels = [\"male\", \"female\"]\n",
    "plt.figure(figsize=(8, 6))\n",
    "sns.heatmap(confusion_mat, annot=True, fmt=\"d\", cmap=\"Blues\", xticklabels=labels, yticklabels=labels)\n",
    "plt.title(\"Confusion Matrix\")\n",
    "plt.xlabel(\"Predicted Labels\")\n",
    "plt.ylabel(\"True Labels\")\n",
    "plt.show()\n"
   ]
  },
  {
   "cell_type": "code",
   "execution_count": null,
   "id": "e09b27f3",
   "metadata": {},
   "outputs": [],
   "source": []
  }
 ],
 "metadata": {
  "kernelspec": {
   "display_name": "Python 3 (ipykernel)",
   "language": "python",
   "name": "python3"
  },
  "language_info": {
   "codemirror_mode": {
    "name": "ipython",
    "version": 3
   },
   "file_extension": ".py",
   "mimetype": "text/x-python",
   "name": "python",
   "nbconvert_exporter": "python",
   "pygments_lexer": "ipython3",
   "version": "3.9.17"
  }
 },
 "nbformat": 4,
 "nbformat_minor": 5
}
