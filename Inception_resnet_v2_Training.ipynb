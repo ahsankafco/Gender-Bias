{
 "cells": [
  {
   "cell_type": "code",
   "execution_count": 1,
   "id": "3e667f74",
   "metadata": {},
   "outputs": [],
   "source": [
    "import os\n",
    "import numpy as np\n",
    "import tensorflow as tf\n",
    "from tensorflow.keras.preprocessing.image import ImageDataGenerator\n",
    "from tensorflow.keras.applications.inception_resnet_v2 import InceptionResNetV2, preprocess_input\n",
    "from tensorflow.keras.callbacks import EarlyStopping\n",
    "from sklearn.metrics import accuracy_score, classification_report, confusion_matrix\n",
    "import matplotlib.pyplot as plt\n",
    "import seaborn as sns"
   ]
  },
  {
   "cell_type": "code",
   "execution_count": 2,
   "id": "a47bad80",
   "metadata": {},
   "outputs": [],
   "source": [
    "# Set the path to your dataset folders for training and testing\n",
    "train_data_path = \"E:\\Thesis\\dataset\\Final Dataset\\Training\"\n",
    "test_data_path = \"E:\\Thesis\\dataset\\Final Dataset\\Testing\""
   ]
  },
  {
   "cell_type": "code",
   "execution_count": 3,
   "id": "99ae708a",
   "metadata": {},
   "outputs": [],
   "source": [
    "# Define image dimensions and batch size\n",
    "image_width, image_height = 512, 512\n",
    "batch_size = 16"
   ]
  },
  {
   "cell_type": "code",
   "execution_count": 4,
   "id": "3ff3c972",
   "metadata": {},
   "outputs": [],
   "source": [
    "# Create an ImageDataGenerator for data augmentation and preprocessing\n",
    "data_generator = ImageDataGenerator(preprocessing_function=preprocess_input)"
   ]
  },
  {
   "cell_type": "code",
   "execution_count": 5,
   "id": "2b4613a1",
   "metadata": {},
   "outputs": [
    {
     "name": "stdout",
     "output_type": "stream",
     "text": [
      "Found 6000 images belonging to 2 classes.\n"
     ]
    }
   ],
   "source": [
    "# Load and preprocess the training data\n",
    "train_generator = data_generator.flow_from_directory(\n",
    "    train_data_path,\n",
    "    target_size=(image_width, image_height),\n",
    "    batch_size=batch_size,\n",
    "    class_mode='categorical',\n",
    "    shuffle=True\n",
    ")"
   ]
  },
  {
   "cell_type": "code",
   "execution_count": 6,
   "id": "a21e6c01",
   "metadata": {},
   "outputs": [
    {
     "name": "stdout",
     "output_type": "stream",
     "text": [
      "Found 1200 images belonging to 2 classes.\n"
     ]
    }
   ],
   "source": [
    "# Load and preprocess the testing data\n",
    "test_generator = data_generator.flow_from_directory(\n",
    "    test_data_path,\n",
    "    target_size=(image_width, image_height),\n",
    "    batch_size=batch_size,\n",
    "    class_mode='categorical',\n",
    "    shuffle=False\n",
    ")"
   ]
  },
  {
   "cell_type": "code",
   "execution_count": 7,
   "id": "86cf0e34",
   "metadata": {},
   "outputs": [],
   "source": [
    "# Load the InceptionResNetV2 model\n",
    "base_model = InceptionResNetV2(weights='imagenet', include_top=False, input_shape=(image_width, image_height, 3))\n",
    "\n",
    "# Add custom classification layers on top of the base model\n",
    "model = tf.keras.models.Sequential()\n",
    "model.add(base_model)\n",
    "model.add(tf.keras.layers.GlobalAveragePooling2D())\n",
    "model.add(tf.keras.layers.Dense(len(train_generator.class_indices), activation='softmax'))\n",
    "\n",
    "# Compile the model\n",
    "model.compile(optimizer='adam', loss='categorical_crossentropy', metrics=['accuracy'])"
   ]
  },
  {
   "cell_type": "code",
   "execution_count": 8,
   "id": "60c99847",
   "metadata": {},
   "outputs": [],
   "source": [
    "# Calculate the training and testing steps per epoch\n",
    "train_steps_per_epoch = train_generator.samples // batch_size\n",
    "test_steps_per_epoch = test_generator.samples // batch_size"
   ]
  },
  {
   "cell_type": "code",
   "execution_count": 9,
   "id": "09e517b0",
   "metadata": {},
   "outputs": [],
   "source": [
    "# Define early stopping callback\n",
    "early_stopping = EarlyStopping(monitor='val_loss', patience=3, restore_best_weights=True)"
   ]
  },
  {
   "cell_type": "code",
   "execution_count": 10,
   "id": "51890ff6",
   "metadata": {},
   "outputs": [
    {
     "name": "stdout",
     "output_type": "stream",
     "text": [
      "Epoch 1/100\n",
      "375/375 [==============================] - 189s 445ms/step - loss: 0.3152 - accuracy: 0.8698 - val_loss: 0.3140 - val_accuracy: 0.8983\n",
      "Epoch 2/100\n",
      "375/375 [==============================] - 125s 334ms/step - loss: 0.1915 - accuracy: 0.9243 - val_loss: 0.4372 - val_accuracy: 0.8700\n",
      "Epoch 3/100\n",
      "375/375 [==============================] - 125s 334ms/step - loss: 0.1660 - accuracy: 0.9363 - val_loss: 0.3819 - val_accuracy: 0.9083\n",
      "Epoch 4/100\n",
      "375/375 [==============================] - 125s 333ms/step - loss: 0.1283 - accuracy: 0.9490 - val_loss: 0.2451 - val_accuracy: 0.9025\n",
      "Epoch 5/100\n",
      "375/375 [==============================] - 125s 333ms/step - loss: 0.1223 - accuracy: 0.9547 - val_loss: 0.2206 - val_accuracy: 0.9125\n",
      "Epoch 6/100\n",
      "375/375 [==============================] - 125s 332ms/step - loss: 0.0984 - accuracy: 0.9615 - val_loss: 0.2682 - val_accuracy: 0.9308\n",
      "Epoch 7/100\n",
      "375/375 [==============================] - 125s 333ms/step - loss: 0.0994 - accuracy: 0.9620 - val_loss: 0.2063 - val_accuracy: 0.9192\n",
      "Epoch 8/100\n",
      "375/375 [==============================] - 126s 337ms/step - loss: 0.1018 - accuracy: 0.9633 - val_loss: 0.2154 - val_accuracy: 0.9183\n",
      "Epoch 9/100\n",
      "375/375 [==============================] - 130s 348ms/step - loss: 0.0650 - accuracy: 0.9797 - val_loss: 0.3074 - val_accuracy: 0.9200\n",
      "Epoch 10/100\n",
      "375/375 [==============================] - 130s 347ms/step - loss: 0.0577 - accuracy: 0.9785 - val_loss: 0.2311 - val_accuracy: 0.9250\n"
     ]
    },
    {
     "data": {
      "text/plain": [
       "<keras.callbacks.History at 0x28f51c336d0>"
      ]
     },
     "execution_count": 10,
     "metadata": {},
     "output_type": "execute_result"
    }
   ],
   "source": [
    "# Train the model with early stopping\n",
    "model.fit(\n",
    "    train_generator,\n",
    "    steps_per_epoch=train_steps_per_epoch,\n",
    "    epochs=100,\n",
    "    validation_data=test_generator,\n",
    "    validation_steps=test_steps_per_epoch,\n",
    "    callbacks=[early_stopping]\n",
    ")\n"
   ]
  },
  {
   "cell_type": "code",
   "execution_count": null,
   "id": "f1f1475d",
   "metadata": {},
   "outputs": [],
   "source": [
    "# Evaluate the model on the test data\n",
    "test_generator.reset()\n",
    "predictions = model.predict(test_generator, steps=test_steps_per_epoch)\n",
    "predicted_labels = np.argmax(predictions, axis=1)\n",
    "true_labels = test_generator.classes"
   ]
  },
  {
   "cell_type": "code",
   "execution_count": null,
   "id": "d739a479",
   "metadata": {},
   "outputs": [],
   "source": [
    "# Evaluate the model\n",
    "loss, accuracy = model.evaluate(test_generator, steps=test_steps_per_epoch)\n",
    "print(\"Test Loss:\", loss)\n",
    "print(\"Test Accuracy:\", accuracy)"
   ]
  },
  {
   "cell_type": "code",
   "execution_count": null,
   "id": "bcf540a8",
   "metadata": {},
   "outputs": [],
   "source": [
    "# Calculate prediction accuracy\n",
    "prediction_accuracy = accuracy_score(true_labels, predicted_labels)\n",
    "print('Prediction Accuracy:', prediction_accuracy)"
   ]
  },
  {
   "cell_type": "code",
   "execution_count": null,
   "id": "17d7e251",
   "metadata": {},
   "outputs": [],
   "source": [
    "# Create a dictionary to map label indices to label names\n",
    "label_map = train_generator.class_indices\n"
   ]
  },
  {
   "cell_type": "code",
   "execution_count": null,
   "id": "63cd47d1",
   "metadata": {},
   "outputs": [],
   "source": [
    "print('Classification Report:')\n",
    "print(classification_report(true_labels, predicted_labels, target_names=label_map))\n"
   ]
  },
  {
   "cell_type": "code",
   "execution_count": null,
   "id": "76d853bd",
   "metadata": {},
   "outputs": [],
   "source": [
    "print('Confusion Matrix:')\n",
    "confusion_mat=confusion_matrix(true_labels, predicted_labels)\n",
    "print(confusion_mat)"
   ]
  },
  {
   "cell_type": "code",
   "execution_count": null,
   "id": "cbab0d56",
   "metadata": {},
   "outputs": [],
   "source": [
    "from sklearn.metrics import accuracy_score, confusion_matrix\n",
    "import seaborn as sns\n",
    "import matplotlib.pyplot as plt\n",
    "# Plot confusion matrix as a heatmap\n",
    "labels = [\"male\", \"female\"]\n",
    "plt.figure(figsize=(8, 6))\n",
    "sns.heatmap(confusion_mat, annot=True, fmt=\"d\", cmap=\"Blues\", xticklabels=labels, yticklabels=labels)\n",
    "plt.title(\"Confusion Matrix\")\n",
    "plt.xlabel(\"Predicted Labels\")\n",
    "plt.ylabel(\"True Labels\")\n",
    "plt.show()\n"
   ]
  },
  {
   "cell_type": "code",
   "execution_count": null,
   "id": "e09b27f3",
   "metadata": {},
   "outputs": [],
   "source": []
  }
 ],
 "metadata": {
  "kernelspec": {
   "display_name": "Python 3 (ipykernel)",
   "language": "python",
   "name": "python3"
  },
  "language_info": {
   "codemirror_mode": {
    "name": "ipython",
    "version": 3
   },
   "file_extension": ".py",
   "mimetype": "text/x-python",
   "name": "python",
   "nbconvert_exporter": "python",
   "pygments_lexer": "ipython3",
   "version": "3.9.17"
  }
 },
 "nbformat": 4,
 "nbformat_minor": 5
}
